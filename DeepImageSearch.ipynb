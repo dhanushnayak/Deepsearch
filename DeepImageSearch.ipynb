{
 "cells": [
  {
   "cell_type": "code",
   "execution_count": 5,
   "id": "c40fb462",
   "metadata": {},
   "outputs": [
    {
     "ename": "ModuleNotFoundError",
     "evalue": "No module named 'DeepImageSearch'",
     "output_type": "error",
     "traceback": [
      "\u001b[1;31m---------------------------------------------------------------------------\u001b[0m",
      "\u001b[1;31mModuleNotFoundError\u001b[0m                       Traceback (most recent call last)",
      "Input \u001b[1;32mIn [5]\u001b[0m, in \u001b[0;36m<cell line: 1>\u001b[1;34m()\u001b[0m\n\u001b[1;32m----> 1\u001b[0m \u001b[38;5;28;01mfrom\u001b[39;00m \u001b[38;5;21;01mDeepImageSearch\u001b[39;00m \u001b[38;5;28;01mimport\u001b[39;00m Index,LoadData,SearchImage\n\u001b[0;32m      2\u001b[0m \u001b[38;5;66;03m# load the Images from the Folder (You can also import data from multiple folder in python list type)\u001b[39;00m\n\u001b[0;32m      3\u001b[0m image_list \u001b[38;5;241m=\u001b[39m LoadData()\u001b[38;5;241m.\u001b[39mfrom_folder([\u001b[38;5;124m\"\u001b[39m\u001b[38;5;124mC://Users/admin/Desktop/project/fashion_recon/images/images\u001b[39m\u001b[38;5;124m\"\u001b[39m])\n",
      "\u001b[1;31mModuleNotFoundError\u001b[0m: No module named 'DeepImageSearch'"
     ]
    }
   ],
   "source": [
    "\n",
    "from DeepImageSearch import Index,LoadData,SearchImage\n",
    "# load the Images from the Folder (You can also import data from multiple folder in python list type)\n",
    "image_list = LoadData().from_folder([\"C://Users/admin/Desktop/project/fashion_recon/images/images\"])\n",
    "# For Faster Serching we need to index Data first, After Indexing all the meta data stored on the local path\n",
    "Index(image_list).Start()\n",
    "# for searching you need to give the image path and the number of similar image you want\n",
    "SearchImage().get_similar_images(image_path=image_list[0],number_of_images=5)\n",
    "# If you want to plot similar images the you can use this method, It will plot 16 most similar images from the data index\n",
    "SearchImage().plot_similar_images(image_path = image_list[0])"
   ]
  },
  {
   "cell_type": "code",
   "execution_count": 6,
   "id": "d00b4363",
   "metadata": {},
   "outputs": [
    {
     "name": "stdout",
     "output_type": "stream",
     "text": [
      "^C\n"
     ]
    }
   ],
   "source": [
    "!pip install DeepImageSearch"
   ]
  }
 ],
 "metadata": {
  "kernelspec": {
   "display_name": "Python 3 (ipykernel)",
   "language": "python",
   "name": "python3"
  },
  "language_info": {
   "codemirror_mode": {
    "name": "ipython",
    "version": 3
   },
   "file_extension": ".py",
   "mimetype": "text/x-python",
   "name": "python",
   "nbconvert_exporter": "python",
   "pygments_lexer": "ipython3",
   "version": "3.8.8"
  }
 },
 "nbformat": 4,
 "nbformat_minor": 5
}
